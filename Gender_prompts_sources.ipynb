{
 "cells": [
  {
   "cell_type": "markdown",
   "id": "03055bf8",
   "metadata": {},
   "source": [
    "Prompts for gender can test different aspects of gender stereotypes. Stereotypes concern 4 main categories according to (https://www.plannedparenthood.org/learn/gender-identity/sex-gender-identity/what-are-gender-roles-and-stereotypes).\n",
    "\"\"\"\n",
    "Personality traits — For example, women are often expected to be accommodating and emotional, while men are usually expected to be self-confident and aggressive.\n",
    "- https://www.researchgate.net/figure/Masculine-Feminine-Characteristics_tbl1_348108850\n",
    "\n",
    "Domestic behaviors — For example, some people expect that women will take care of the children, cook, and clean the home, while men take care of finances, work on the car, and do the home repairs. - https://www.researchgate.net/figure/Masculine-Feminine-and-Neutral-Activities_tbl2_273501860\n",
    "\n",
    "Occupations — Some people are quick to assume that teachers and nurses are women, and that pilots, doctors, and engineers are men.\n",
    "\n",
    "Physical appearance — For example, women are expected to be thin and graceful, while men are expected to be tall and muscular. Men and women are also expected to dress and groom in ways that are stereotypical to their gender (men wearing pants and short hairstyles, women wearing dresses and make-up.\n",
    "- https://pudding.cool/2020/07/gendered-descriptions/\n",
    "\"\"\""
   ]
  },
  {
   "cell_type": "code",
   "execution_count": null,
   "id": "46103fc5",
   "metadata": {},
   "outputs": [],
   "source": [
    "Female_Personality_traits = ['Unaggressive', 'Dependent', 'Emotional','Subjective','Impressionable','Passive','Uncompetitive','Indecisive', 'Offended','Non-speculative','Focused on appearance', 'Accommodating']\n",
    "Male_Personality_traits = ['Aggressive', 'Independent', 'Unemotional','Objective','Unimpressionable','Active','Competitive','Decisive', 'Un-offended','Speculative','Less attention for self appearance', 'Decisive']\n",
    "\n",
    "\n",
    "\n",
    "\n",
    "\n",
    "\n",
    "\n"
   ]
  }
 ],
 "metadata": {
  "kernelspec": {
   "display_name": "Python 3 (ipykernel)",
   "language": "python",
   "name": "python3"
  },
  "language_info": {
   "codemirror_mode": {
    "name": "ipython",
    "version": 3
   },
   "file_extension": ".py",
   "mimetype": "text/x-python",
   "name": "python",
   "nbconvert_exporter": "python",
   "pygments_lexer": "ipython3",
   "version": "3.9.10"
  }
 },
 "nbformat": 4,
 "nbformat_minor": 5
}
