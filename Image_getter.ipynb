{
 "cells": [
  {
   "cell_type": "code",
   "execution_count": null,
   "metadata": {},
   "outputs": [],
   "source": [
    "import requests # http requests\n",
    "import re # regular expressions\n",
    "from bs4 import BeautifulSoup # xml parsing\n",
    "import json\n",
    "import tqdm\n",
    "from concurrent.futures import ThreadPoolExecutor"
   ]
  },
  {
   "cell_type": "code",
   "execution_count": null,
   "metadata": {},
   "outputs": [],
   "source": [
    "# send a HTTP GET request and store the response\n",
    "occupations = {\"male\": [\n",
    "    \"police officer\",\n",
    "    \"electrician\",\n",
    "    \"carpenter\",\n",
    "    \"software developer\"],\n",
    "\"female\": [\n",
    "    \"social worker\",\n",
    "    \"maid\",\n",
    "    \"secretary\",\n",
    "    \"nurse\"],\n",
    "\"general\": [\n",
    "    \"professor\",\n",
    "    \"photographer\",\n",
    "    \"artist\",\n",
    "    \"manager\"]\n",
    "}\n",
    "\n",
    "url = 'https://knn5.laion.ai/knn-service'\n",
    "for gender,occupation in occupations.items():\n",
    "    \n",
    "    for occ in occupation:\n",
    "        data = {\"text\":f\"A picture of a {occ}\",\"image\":None,\"image_url\":None,\"embedding_input\":None,\"modality\":\"image\",\"num_images\":200,\"indice_name\":\"laion5B\",\"num_result_ids\":3000,\"use_mclip\":False,\"deduplicate\":True,\"use_safety_model\":False,\"use_violence_detector\":True,\"aesthetic_score\":\"\",\"aesthetic_weight\":\"0.5\"}\n",
    "        response = requests.post(url, data=json.dumps(data))\n",
    "        response.raise_for_status()\n",
    "        dicts = json.loads(response.text)\n",
    "        cnt = 0\n",
    "        idx = 0\n",
    "        \n",
    "        with ThreadPoolExecutor(max_workers = 4) as executor:\n",
    "            def func(dic):\n",
    "                global idx\n",
    "                imgurl = dic.get('url')\n",
    "                r = requests.get(imgurl)\n",
    "                try: \n",
    "                    r.raise_for_status()\n",
    "                except: \n",
    "                    return\n",
    "                with open(f'pics/{occ}_{idx}.jpg', 'wb') as f:\n",
    "                    f.write(r.content)\n",
    "                idx += 1\n",
    "            list(map(func, tqdm.tqdm(dicts)))\n",
    "        print(occ,'error',cnt)\n",
    "'''if status_code != 200:\n",
    "    raise Exception(f'Error {status_code} ({requests.status_codes._codes[status_code]})')\n",
    "else:\n",
    "    html_text = response.text\n",
    "    print(f'Request successful')'''"
   ]
  }
 ],
 "metadata": {
  "kernelspec": {
   "display_name": "Python 3",
   "language": "python",
   "name": "python3"
  },
  "language_info": {
   "codemirror_mode": {
    "name": "ipython",
    "version": 3
   },
   "file_extension": ".py",
   "mimetype": "text/x-python",
   "name": "python",
   "nbconvert_exporter": "python",
   "pygments_lexer": "ipython3",
   "version": "3.7.3"
  }
 },
 "nbformat": 4,
 "nbformat_minor": 4
}
