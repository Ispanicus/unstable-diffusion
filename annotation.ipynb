{
 "cells": [
  {
   "cell_type": "code",
   "execution_count": 4,
   "id": "30d55549-c9ec-4ab4-84ca-698ca3cd4d73",
   "metadata": {},
   "outputs": [],
   "source": [
    "import json\n",
    "import pandas as pd"
   ]
  },
  {
   "cell_type": "code",
   "execution_count": 18,
   "id": "3a97dc99-f276-411b-af9c-38f4c5ac4dbd",
   "metadata": {},
   "outputs": [],
   "source": [
    "def load(name):\n",
    "    with open(f\".\\\\annotations\\jsons\\{name}.json\",\"r\") as f:\n",
    "        return json.load(f)"
   ]
  },
  {
   "cell_type": "code",
   "execution_count": 19,
   "id": "85a1c62e-5df2-4a08-ab03-a7175d086bdf",
   "metadata": {},
   "outputs": [],
   "source": [
    "data_list =[]\n",
    "names = [\"johan\"]\n",
    "for name in names:\n",
    "    data = load(name)\n",
    "    for annotation in data:\n",
    "        data_list.append([annotation[\"file_upload\"],\n",
    "                          name,\n",
    "                          data[0][\"annotations\"][0][\"result\"][0][\"value\"][\"choices\"]])\n",
    "    "
   ]
  },
  {
   "cell_type": "code",
   "execution_count": 20,
   "id": "7fd3c081-e9fb-4290-8f0e-1cf49f3d5124",
   "metadata": {},
   "outputs": [],
   "source": [
    "df = pd.DataFrame(data_list,columns=[\"filename\",\"annotator\",\"annotation\"])"
   ]
  },
  {
   "cell_type": "code",
   "execution_count": 21,
   "id": "3d8d3a3a-c704-4927-9acf-ba3ff314f278",
   "metadata": {},
   "outputs": [
    {
     "data": {
      "text/html": [
       "<div>\n",
       "<style scoped>\n",
       "    .dataframe tbody tr th:only-of-type {\n",
       "        vertical-align: middle;\n",
       "    }\n",
       "\n",
       "    .dataframe tbody tr th {\n",
       "        vertical-align: top;\n",
       "    }\n",
       "\n",
       "    .dataframe thead th {\n",
       "        text-align: right;\n",
       "    }\n",
       "</style>\n",
       "<table border=\"1\" class=\"dataframe\">\n",
       "  <thead>\n",
       "    <tr style=\"text-align: right;\">\n",
       "      <th></th>\n",
       "      <th>filename</th>\n",
       "      <th>annotator</th>\n",
       "      <th>annotation</th>\n",
       "    </tr>\n",
       "  </thead>\n",
       "  <tbody>\n",
       "    <tr>\n",
       "      <th>0</th>\n",
       "      <td>3f2ca02b-professor_100.jpg</td>\n",
       "      <td>johan</td>\n",
       "      <td>[Male]</td>\n",
       "    </tr>\n",
       "    <tr>\n",
       "      <th>1</th>\n",
       "      <td>62bc5b40-api_carpenter_75.jpg</td>\n",
       "      <td>johan</td>\n",
       "      <td>[Male]</td>\n",
       "    </tr>\n",
       "    <tr>\n",
       "      <th>2</th>\n",
       "      <td>57ad59dc-secretary_173.jpg</td>\n",
       "      <td>johan</td>\n",
       "      <td>[Male]</td>\n",
       "    </tr>\n",
       "    <tr>\n",
       "      <th>3</th>\n",
       "      <td>b161e6f8-api_professor_34.jpg</td>\n",
       "      <td>johan</td>\n",
       "      <td>[Male]</td>\n",
       "    </tr>\n",
       "    <tr>\n",
       "      <th>4</th>\n",
       "      <td>b1ae1dc5-electrician_99.jpg</td>\n",
       "      <td>johan</td>\n",
       "      <td>[Male]</td>\n",
       "    </tr>\n",
       "    <tr>\n",
       "      <th>...</th>\n",
       "      <td>...</td>\n",
       "      <td>...</td>\n",
       "      <td>...</td>\n",
       "    </tr>\n",
       "    <tr>\n",
       "      <th>3567</th>\n",
       "      <td>cca0ba8f-artist_113.jpg</td>\n",
       "      <td>johan</td>\n",
       "      <td>[Male]</td>\n",
       "    </tr>\n",
       "    <tr>\n",
       "      <th>3568</th>\n",
       "      <td>cf77a221-carpenter_175.jpg</td>\n",
       "      <td>johan</td>\n",
       "      <td>[Male]</td>\n",
       "    </tr>\n",
       "    <tr>\n",
       "      <th>3569</th>\n",
       "      <td>f59625ad-api_software_developer_35.jpg</td>\n",
       "      <td>johan</td>\n",
       "      <td>[Male]</td>\n",
       "    </tr>\n",
       "    <tr>\n",
       "      <th>3570</th>\n",
       "      <td>d6f49ffe-secretary_132.jpg</td>\n",
       "      <td>johan</td>\n",
       "      <td>[Male]</td>\n",
       "    </tr>\n",
       "    <tr>\n",
       "      <th>3571</th>\n",
       "      <td>9e2780fb-maid_65.jpg</td>\n",
       "      <td>johan</td>\n",
       "      <td>[Male]</td>\n",
       "    </tr>\n",
       "  </tbody>\n",
       "</table>\n",
       "<p>3572 rows × 3 columns</p>\n",
       "</div>"
      ],
      "text/plain": [
       "                                    filename annotator annotation\n",
       "0                 3f2ca02b-professor_100.jpg     johan     [Male]\n",
       "1              62bc5b40-api_carpenter_75.jpg     johan     [Male]\n",
       "2                 57ad59dc-secretary_173.jpg     johan     [Male]\n",
       "3              b161e6f8-api_professor_34.jpg     johan     [Male]\n",
       "4                b1ae1dc5-electrician_99.jpg     johan     [Male]\n",
       "...                                      ...       ...        ...\n",
       "3567                 cca0ba8f-artist_113.jpg     johan     [Male]\n",
       "3568              cf77a221-carpenter_175.jpg     johan     [Male]\n",
       "3569  f59625ad-api_software_developer_35.jpg     johan     [Male]\n",
       "3570              d6f49ffe-secretary_132.jpg     johan     [Male]\n",
       "3571                    9e2780fb-maid_65.jpg     johan     [Male]\n",
       "\n",
       "[3572 rows x 3 columns]"
      ]
     },
     "execution_count": 21,
     "metadata": {},
     "output_type": "execute_result"
    }
   ],
   "source": [
    "df"
   ]
  },
  {
   "cell_type": "code",
   "execution_count": null,
   "id": "9ae96faf-20e8-4326-9c30-7396d3abb05b",
   "metadata": {},
   "outputs": [],
   "source": []
  }
 ],
 "metadata": {
  "kernelspec": {
   "display_name": "Python 3 (ipykernel)",
   "language": "python",
   "name": "python3"
  },
  "language_info": {
   "codemirror_mode": {
    "name": "ipython",
    "version": 3
   },
   "file_extension": ".py",
   "mimetype": "text/x-python",
   "name": "python",
   "nbconvert_exporter": "python",
   "pygments_lexer": "ipython3",
   "version": "3.7.12"
  }
 },
 "nbformat": 4,
 "nbformat_minor": 5
}
